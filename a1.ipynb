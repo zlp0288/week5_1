{
 "metadata": {
  "language_info": {
   "codemirror_mode": {
    "name": "ipython",
    "version": 3
   },
   "file_extension": ".py",
   "mimetype": "text/x-python",
   "name": "python",
   "nbconvert_exporter": "python",
   "pygments_lexer": "ipython3",
   "version": "3.7.4-final"
  },
  "orig_nbformat": 2,
  "kernelspec": {
   "name": "python37464bitbaseconda443b21ebe2654b2184244c6798eef10f",
   "display_name": "Python 3.7.4 64-bit ('base': conda)"
  }
 },
 "nbformat": 4,
 "nbformat_minor": 2,
 "cells": [
  {
   "cell_type": "code",
   "execution_count": 1,
   "metadata": {
    "tags": []
   },
   "outputs": [],
   "source": [
    "import pandas as pd\n",
    "from sklearn.metrics import mean_squared_error\n",
    "from sklearn.model_selection import train_test_split\n",
    "from sklearn.preprocessing import LabelEncoder\n",
    "from deepctr.models import DeepFM\n",
    "from deepctr.models import WDL\n",
    "from deepctr.feature_column import SparseFeat,get_feature_names\n",
    "from sklearn.datasets import fetch_california_housing\n",
    "from sklearn.model_selection import train_test_split\n",
    "from sklearn.preprocessing import StandardScaler\n",
    "import matplotlib.pyplot as plt"
   ]
  },
  {
   "cell_type": "code",
   "execution_count": 2,
   "metadata": {},
   "outputs": [
    {
     "output_type": "execute_result",
     "data": {
      "text/plain": "   user_id  movie_id  rating  timestamp  \\\n0     3299       235       4  968035345   \n1     3630      3256       3  966536874   \n2      517       105       4  976203603   \n3      785      2115       3  975430389   \n4     5848       909       5  957782527   \n\n                                         title            genres gender  age  \\\n0                               Ed Wood (1994)      Comedy|Drama      F   25   \n1                         Patriot Games (1992)   Action|Thriller      M   18   \n2        Bridges of Madison County, The (1995)     Drama|Romance      F   25   \n3  Indiana Jones and the Temple of Doom (1984)  Action|Adventure      M   18   \n4                        Apartment, The (1960)      Comedy|Drama      M   50   \n\n   occupation    zip  \n0           4  19119  \n1           4  77005  \n2          14  55408  \n3          19  29307  \n4          20  20009  ",
      "text/html": "<div>\n<style scoped>\n    .dataframe tbody tr th:only-of-type {\n        vertical-align: middle;\n    }\n\n    .dataframe tbody tr th {\n        vertical-align: top;\n    }\n\n    .dataframe thead th {\n        text-align: right;\n    }\n</style>\n<table border=\"1\" class=\"dataframe\">\n  <thead>\n    <tr style=\"text-align: right;\">\n      <th></th>\n      <th>user_id</th>\n      <th>movie_id</th>\n      <th>rating</th>\n      <th>timestamp</th>\n      <th>title</th>\n      <th>genres</th>\n      <th>gender</th>\n      <th>age</th>\n      <th>occupation</th>\n      <th>zip</th>\n    </tr>\n  </thead>\n  <tbody>\n    <tr>\n      <th>0</th>\n      <td>3299</td>\n      <td>235</td>\n      <td>4</td>\n      <td>968035345</td>\n      <td>Ed Wood (1994)</td>\n      <td>Comedy|Drama</td>\n      <td>F</td>\n      <td>25</td>\n      <td>4</td>\n      <td>19119</td>\n    </tr>\n    <tr>\n      <th>1</th>\n      <td>3630</td>\n      <td>3256</td>\n      <td>3</td>\n      <td>966536874</td>\n      <td>Patriot Games (1992)</td>\n      <td>Action|Thriller</td>\n      <td>M</td>\n      <td>18</td>\n      <td>4</td>\n      <td>77005</td>\n    </tr>\n    <tr>\n      <th>2</th>\n      <td>517</td>\n      <td>105</td>\n      <td>4</td>\n      <td>976203603</td>\n      <td>Bridges of Madison County, The (1995)</td>\n      <td>Drama|Romance</td>\n      <td>F</td>\n      <td>25</td>\n      <td>14</td>\n      <td>55408</td>\n    </tr>\n    <tr>\n      <th>3</th>\n      <td>785</td>\n      <td>2115</td>\n      <td>3</td>\n      <td>975430389</td>\n      <td>Indiana Jones and the Temple of Doom (1984)</td>\n      <td>Action|Adventure</td>\n      <td>M</td>\n      <td>18</td>\n      <td>19</td>\n      <td>29307</td>\n    </tr>\n    <tr>\n      <th>4</th>\n      <td>5848</td>\n      <td>909</td>\n      <td>5</td>\n      <td>957782527</td>\n      <td>Apartment, The (1960)</td>\n      <td>Comedy|Drama</td>\n      <td>M</td>\n      <td>50</td>\n      <td>20</td>\n      <td>20009</td>\n    </tr>\n  </tbody>\n</table>\n</div>"
     },
     "metadata": {},
     "execution_count": 2
    }
   ],
   "source": [
    "data = pd.read_csv(\"movielens_sample.csv\")\n",
    "data.head()"
   ]
  },
  {
   "cell_type": "code",
   "execution_count": 3,
   "metadata": {},
   "outputs": [],
   "source": [
    "sparse_features = [\"movie_id\", \"user_id\", \"gender\", \"age\", \"occupation\", \"zip\"]\n",
    "target = ['rating']"
   ]
  },
  {
   "cell_type": "code",
   "execution_count": 4,
   "metadata": {
    "tags": []
   },
   "outputs": [
    {
     "output_type": "stream",
     "name": "stdout",
     "text": "[SparseFeat(name='movie_id', vocabulary_size=187, embedding_dim=4, use_hash=False, dtype='int32', embeddings_initializer=<tensorflow.python.keras.initializers.initializers_v1.RandomNormal object at 0x000001C29406EBC8>, embedding_name='movie_id', group_name='default_group', trainable=True), SparseFeat(name='user_id', vocabulary_size=193, embedding_dim=4, use_hash=False, dtype='int32', embeddings_initializer=<tensorflow.python.keras.initializers.initializers_v1.RandomNormal object at 0x000001C29406EFC8>, embedding_name='user_id', group_name='default_group', trainable=True), SparseFeat(name='gender', vocabulary_size=2, embedding_dim=4, use_hash=False, dtype='int32', embeddings_initializer=<tensorflow.python.keras.initializers.initializers_v1.RandomNormal object at 0x000001C294075148>, embedding_name='gender', group_name='default_group', trainable=True), SparseFeat(name='age', vocabulary_size=7, embedding_dim=4, use_hash=False, dtype='int32', embeddings_initializer=<tensorflow.python.keras.initializers.initializers_v1.RandomNormal object at 0x000001C294075208>, embedding_name='age', group_name='default_group', trainable=True), SparseFeat(name='occupation', vocabulary_size=20, embedding_dim=4, use_hash=False, dtype='int32', embeddings_initializer=<tensorflow.python.keras.initializers.initializers_v1.RandomNormal object at 0x000001C2940752C8>, embedding_name='occupation', group_name='default_group', trainable=True), SparseFeat(name='zip', vocabulary_size=188, embedding_dim=4, use_hash=False, dtype='int32', embeddings_initializer=<tensorflow.python.keras.initializers.initializers_v1.RandomNormal object at 0x000001C2940753C8>, embedding_name='zip', group_name='default_group', trainable=True)]\n"
    }
   ],
   "source": [
    "# 对特征标签进行编码\n",
    "for feature in sparse_features:\n",
    "    lbe = LabelEncoder()\n",
    "    data[feature] = lbe.fit_transform(data[feature])\n",
    "# 计算每个特征中的 不同特征值的个数\n",
    "fixlen_feature_columns = [SparseFeat(feature, data[feature].nunique()) for feature in sparse_features]  #特征稀疏化\n",
    "print(fixlen_feature_columns)\n",
    "linear_feature_columns = fixlen_feature_columns\n",
    "dnn_feature_columns = fixlen_feature_columns\n",
    "feature_names = get_feature_names(linear_feature_columns + dnn_feature_columns)"
   ]
  },
  {
   "cell_type": "code",
   "execution_count": 5,
   "metadata": {},
   "outputs": [],
   "source": [
    "# 将数据集切分成训练集和测试集\n",
    "train, test = train_test_split(data, test_size=0.2)\n",
    "train_model_input = {name:train[name].values for name in feature_names}\n",
    "test_model_input = {name:test[name].values for name in feature_names}"
   ]
  },
  {
   "cell_type": "code",
   "execution_count": 6,
   "metadata": {},
   "outputs": [
    {
     "output_type": "execute_result",
     "data": {
      "text/plain": "{'movie_id': array([126,  31,  87,   1, 170,  13,  67,  27, 133,  80, 172,  44,  22,\n        130,  11,   9, 165,  88, 122,  16, 174, 176,  29,  15,  43, 136,\n          6,  68,   0, 158, 121,  85, 140,  86, 112,  73, 156,  33,  32,\n         66, 145,  55,  72, 164, 115,  79, 124, 184, 100,  53,  34,  17,\n         61, 149, 185,  23, 141, 111, 137, 149, 148, 181, 106, 150, 134,\n        108,  64, 123,  81,   5,  28, 128,  75, 116,   9,  95,  21, 157,\n         60, 183,  70,  50,  72,   7,  24, 178,  66,  20, 138,  97,  91,\n        113, 135,  39, 163, 169,  30,  99, 151, 173,  48, 142, 107,  59,\n         45,  84, 119,  27,  40,  62,  52, 146,  54,  35, 153,  35,  71,\n         26, 101, 114,  63, 127,  10, 173,  65, 103, 170, 179, 177,  93,\n        161,  58, 112,  83,  38, 169, 110,  92,  76, 168,  34,  18, 159,\n         12, 105,  89,  96,   8, 104,  94,  25, 123,  82, 180,  98, 120,\n         49, 139, 160,  47], dtype=int64),\n 'user_id': array([ 37, 124,  44, 180,  11,  15,  69,  39, 116, 171, 168,  22, 190,\n        146,  13,  45, 156, 118,  65,  51,  68,  46, 108, 181, 102,  66,\n         12, 161,  26,  49,  62,  84, 113,  25, 182, 166,  24,  91, 126,\n        154, 100, 152,  86, 135, 128,  57, 159,  61,  73,   2, 157, 165,\n         40, 142,  28,  93, 163, 160, 175, 109,  82, 167,  80,  29, 112,\n          1, 119, 147,  29, 120, 139,  49,   8, 144, 184,  70,  96,  38,\n         98,  99,  72, 173,  90, 185,  43,  32, 183,  20,  55, 173,  77,\n        188,  50,   3, 141, 110, 134,  56, 153,   7,  74,   5,  59, 169,\n        187, 104,  87, 189,  78, 155,   6,  99,  33,   0, 127, 133,  17,\n        179, 143, 148, 151, 103, 170,  10,  53,  18, 178, 137, 115,  40,\n         89, 140,  21,  52,  19, 123,  88, 162,  31, 192, 172, 158, 164,\n        107, 121, 131, 138, 150,  54, 177,   9,  41,  97, 145,  35,  47,\n         76,  83, 132, 149], dtype=int64),\n 'gender': array([0, 1, 1, 1, 1, 1, 1, 0, 0, 1, 1, 1, 1, 1, 0, 1, 0, 1, 1, 1, 1, 1,\n        0, 1, 0, 1, 0, 0, 1, 1, 1, 0, 0, 1, 0, 1, 1, 1, 1, 1, 1, 1, 1, 0,\n        1, 0, 1, 1, 0, 1, 1, 0, 1, 1, 1, 0, 1, 1, 1, 1, 0, 1, 1, 1, 1, 1,\n        1, 0, 1, 0, 1, 1, 0, 1, 1, 1, 1, 1, 1, 1, 1, 1, 1, 1, 0, 1, 1, 1,\n        1, 1, 0, 1, 1, 1, 1, 1, 1, 1, 1, 1, 1, 1, 1, 1, 1, 0, 0, 1, 1, 1,\n        1, 1, 1, 1, 1, 1, 1, 1, 1, 0, 1, 1, 1, 1, 1, 1, 0, 1, 1, 1, 1, 1,\n        1, 1, 1, 1, 1, 0, 0, 1, 1, 1, 0, 0, 0, 1, 1, 1, 1, 0, 1, 1, 0, 1,\n        0, 1, 1, 1, 1, 1]),\n 'age': array([1, 3, 3, 3, 2, 5, 4, 1, 4, 2, 3, 0, 1, 6, 2, 2, 5, 1, 1, 5, 5, 2,\n        1, 2, 0, 5, 2, 6, 1, 2, 3, 0, 4, 2, 2, 2, 5, 1, 4, 6, 4, 3, 5, 2,\n        3, 5, 3, 2, 6, 1, 1, 2, 3, 2, 3, 3, 4, 5, 4, 2, 4, 1, 2, 2, 3, 6,\n        2, 5, 2, 4, 5, 2, 3, 2, 2, 4, 2, 3, 3, 1, 3, 1, 3, 2, 2, 1, 1, 0,\n        3, 1, 1, 2, 2, 1, 5, 3, 2, 2, 2, 2, 1, 2, 2, 1, 5, 2, 2, 0, 1, 6,\n        5, 1, 1, 3, 0, 2, 6, 6, 5, 2, 2, 2, 2, 3, 5, 2, 2, 2, 1, 3, 2, 2,\n        1, 2, 1, 1, 1, 3, 4, 2, 6, 3, 5, 2, 1, 1, 3, 6, 2, 2, 2, 2, 3, 3,\n        2, 2, 5, 5, 2, 2], dtype=int64),\n 'occupation': array([19,  7, 14, 16, 15, 16, 13,  1,  7, 11,  1, 18,  5,  1,  0,  0, 17,\n        16,  0,  7, 10, 11,  4,  0,  1, 15, 13,  2, 13,  0,  5,  9,  1,  0,\n        10,  7,  1, 16,  7,  1,  1,  5,  1, 14,  6,  6,  0,  0, 12,  4,  4,\n         8,  4,  0, 18,  0,  1, 13,  7, 11,  1, 13,  0,  0,  1,  1,  0,  6,\n         0,  0,  7,  0,  0,  4,  2, 19,  0,  2, 11,  0, 16, 11, 10,  0,  7,\n         4, 14,  9, 11, 11,  4,  7,  0,  1, 11,  7, 16, 19, 13,  2,  4, 11,\n         3,  9, 19, 17,  3,  9,  0,  1, 14,  0,  4,  7,  9,  0, 16, 15,  0,\n         1,  2,  2, 15,  7, 15,  0,  6, 18,  4,  4, 13, 16, 18, 11,  4,  4,\n         4,  4,  8,  6,  0, 16, 11,  4, 14, 11, 15,  7, 19, 16, 11, 18, 19,\n        16, 18,  7, 15, 13, 19,  4], dtype=int64),\n 'zip': array([ 85,  16,  44,  17,  93,  64, 165, 158,  57, 161, 114,  89, 175,\n         76,  68, 131,  14, 111, 162,  53, 144,  48, 130, 106, 137, 143,\n         99, 160, 117, 104,  25,  82,  33, 136,   6, 103,  45,  90,  56,\n         51, 136, 172,  69, 126,  91,  60, 155,  78,   9,  13, 109, 150,\n        179,  73, 159,  10,  34,  98,   3, 120, 105,  20,  77,  21,  43,\n         86, 183,  81,  21, 121,  71, 104,  97,  79, 115, 148,  22,  36,\n        171, 108, 157, 134,  80, 146,  40, 132, 153,  72, 170, 134,  31,\n         11, 164,  24,  63, 116,  84,  37,  52, 140, 101, 139, 173, 110,\n         41,  47,  87,  46,  94,  71,  95, 108, 168, 100,  12, 127,  65,\n         61,   1, 141, 176, 135,  58,  18, 184,  67,   8,  28, 122, 179,\n         38, 185,  55, 123, 180, 118, 152, 174, 169,  26, 119, 129, 167,\n         35,   7, 113,  75,  70, 166,   2,  96, 156, 178,  39, 128, 133,\n         15,  32, 138, 186])}"
     },
     "metadata": {},
     "execution_count": 6
    }
   ],
   "source": [
    "train_model_input"
   ]
  },
  {
   "cell_type": "code",
   "execution_count": 7,
   "metadata": {
    "tags": []
   },
   "outputs": [
    {
     "output_type": "stream",
     "name": "stdout",
     "text": "Epoch 1/10\n1/1 [==============================] - 0s 454ms/step - loss: 14.1249 - mse: 14.1249 - val_loss: 14.5671 - val_mse: 14.5671\nEpoch 2/10\n1/1 [==============================] - 0s 25ms/step - loss: 13.9866 - mse: 13.9866 - val_loss: 14.4403 - val_mse: 14.4403\nEpoch 3/10\n1/1 [==============================] - 0s 28ms/step - loss: 13.8383 - mse: 13.8383 - val_loss: 14.3048 - val_mse: 14.3048\nEpoch 4/10\n1/1 [==============================] - 0s 23ms/step - loss: 13.6801 - mse: 13.6801 - val_loss: 14.1608 - val_mse: 14.1608\nEpoch 5/10\n1/1 [==============================] - 0s 24ms/step - loss: 13.5125 - mse: 13.5125 - val_loss: 14.0075 - val_mse: 14.0075\nEpoch 6/10\n1/1 [==============================] - 0s 24ms/step - loss: 13.3347 - mse: 13.3347 - val_loss: 13.8445 - val_mse: 13.8445\nEpoch 7/10\n1/1 [==============================] - 0s 26ms/step - loss: 13.1457 - mse: 13.1457 - val_loss: 13.6712 - val_mse: 13.6712\nEpoch 8/10\n1/1 [==============================] - 0s 20ms/step - loss: 12.9446 - mse: 12.9446 - val_loss: 13.4870 - val_mse: 13.4870\nEpoch 9/10\n1/1 [==============================] - 0s 23ms/step - loss: 12.7308 - mse: 12.7308 - val_loss: 13.2910 - val_mse: 13.2910\nEpoch 10/10\n1/1 [==============================] - 0s 20ms/step - loss: 12.5033 - mse: 12.5033 - val_loss: 13.0825 - val_mse: 13.0825\n"
    }
   ],
   "source": [
    "# 使用WDL进行训练\n",
    "model = WDL(linear_feature_columns, dnn_feature_columns, task='regression')\n",
    "model.compile(\"adam\", \"mse\", metrics=['mse'], )\n",
    "history = model.fit(train_model_input, train[target].values, batch_size=256, epochs=10, verbose=True, validation_split=0.2, )"
   ]
  },
  {
   "cell_type": "code",
   "execution_count": 8,
   "metadata": {},
   "outputs": [],
   "source": [
    "# 使用WDL进行预测\n",
    "pred_ans = model.predict(test_model_input, batch_size=256)"
   ]
  },
  {
   "cell_type": "code",
   "execution_count": 13,
   "metadata": {
    "tags": []
   },
   "outputs": [
    {
     "output_type": "stream",
     "name": "stdout",
     "text": "test RMSE 3.4981872389648734\ntest MSE 12.237313958856685\n"
    }
   ],
   "source": [
    "# 输出RMSE或MSE\n",
    "from sklearn import metrics\n",
    "import numpy as np\n",
    "mse=metrics.mean_squared_error(test[target].values, pred_ans)\n",
    "rmse = np.sqrt(metrics.mean_squared_error(test[target].values, pred_ans))\n",
    "print(\"test RMSE\", rmse)\n",
    "print(\"test MSE\", mse)"
   ]
  },
  {
   "cell_type": "code",
   "execution_count": null,
   "metadata": {},
   "outputs": [],
   "source": []
  }
 ]
}